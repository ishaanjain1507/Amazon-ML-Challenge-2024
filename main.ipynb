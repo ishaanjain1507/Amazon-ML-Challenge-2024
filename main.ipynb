{
 "cells": [
  {
   "cell_type": "code",
   "execution_count": 1,
   "metadata": {},
   "outputs": [],
   "source": [
    "import numpy as np\n",
    "import pandas as pd\n",
    "import os\n",
    "import cv2\n",
    "\n",
    "import requests\n",
    "from PIL import Image, ImageFile\n",
    "ImageFile.LOAD_TRUNCATED_IMAGES = True\n",
    "from io import BytesIO\n",
    "\n",
    "# import constants\n",
    "# from utils import download_images"
   ]
  },
  {
   "cell_type": "code",
   "execution_count": 3,
   "metadata": {},
   "outputs": [],
   "source": [
    "trainDF = pd.read_csv('dataset/train.csv')"
   ]
  },
  {
   "cell_type": "code",
   "execution_count": 4,
   "metadata": {},
   "outputs": [
    {
     "name": "stdout",
     "output_type": "stream",
     "text": [
      "https://m.media-amazon.com/images/I/61I9XdN6OFL.jpg\n",
      "https://m.media-amazon.com/images/I/71gSRbyXmoL.jpg\n",
      "https://m.media-amazon.com/images/I/61BZ4zrjZXL.jpg\n",
      "https://m.media-amazon.com/images/I/612mrlqiI4L.jpg\n",
      "https://m.media-amazon.com/images/I/617Tl40LOXL.jpg\n"
     ]
    }
   ],
   "source": [
    "for img in trainDF.head()['image_link']:\n",
    "    print(img)"
   ]
  },
  {
   "cell_type": "code",
   "execution_count": 5,
   "metadata": {},
   "outputs": [],
   "source": [
    "image_dir = \"../image\"\n",
    "if not os.path.exists(image_dir):\n",
    "    os.makedirs(image_dir)"
   ]
  },
  {
   "cell_type": "code",
   "execution_count": 6,
   "metadata": {},
   "outputs": [],
   "source": [
    "# download_images(trainDF['image_link'], \"../image\")"
   ]
  },
  {
   "cell_type": "code",
   "execution_count": 7,
   "metadata": {},
   "outputs": [
    {
     "data": {
      "text/plain": [
       "np.int64(0)"
      ]
     },
     "execution_count": 7,
     "metadata": {},
     "output_type": "execute_result"
    }
   ],
   "source": [
    "trainDF['entity_value'].isnull().sum()"
   ]
  },
  {
   "cell_type": "code",
   "execution_count": 16,
   "metadata": {},
   "outputs": [
    {
     "name": "stderr",
     "output_type": "stream",
     "text": [
      "Neither CUDA nor MPS are available - defaulting to CPU. Note: This module is much faster with a GPU.\n"
     ]
    },
    {
     "name": "stderr",
     "output_type": "stream",
     "text": [
      "Neither CUDA nor MPS are available - defaulting to CPU. Note: This module is much faster with a GPU.\n",
      "Neither CUDA nor MPS are available - defaulting to CPU. Note: This module is much faster with a GPU.\n",
      "Neither CUDA nor MPS are available - defaulting to CPU. Note: This module is much faster with a GPU.\n",
      "Neither CUDA nor MPS are available - defaulting to CPU. Note: This module is much faster with a GPU.\n",
      "Neither CUDA nor MPS are available - defaulting to CPU. Note: This module is much faster with a GPU.\n",
      "Neither CUDA nor MPS are available - defaulting to CPU. Note: This module is much faster with a GPU.\n",
      "Neither CUDA nor MPS are available - defaulting to CPU. Note: This module is much faster with a GPU.\n"
     ]
    },
    {
     "name": "stdout",
     "output_type": "stream",
     "text": [
      "Detected text: [([[np.int32(43), np.int32(37)], [np.int32(73), np.int32(37)], [np.int32(73), np.int32(51)], [np.int32(43), np.int32(51)]], '140g', np.float64(0.9749747835892709)), ([[np.float64(163.3615361589619), np.float64(254.85307531127333)], [np.float64(203.27603572950065), np.float64(233.45995687818888)], [np.float64(211.6384638410381), np.float64(250.14692468872667)], [np.float64(171.72396427049935), np.float64(271.54004312181115)]], '10.8cm', np.float64(0.9656471667334722)), ([[np.float64(22.53425356716738), np.float64(274.115081777618)], [np.float64(34.27472112789738), np.float64(266.03847605235916)], [np.float64(54.465746432832624), np.float64(294.884918222382)], [np.float64(42.72527887210262), np.float64(302.96152394764084)]], '1', np.float64(0.7978316531161909))]\n",
      "Detected text: [([[np.float64(209.3859944401545), np.float64(16.0965827644789)], [np.float64(233.94028500029066), np.float64(37.514928749927336)], [np.float64(222.6140055598455), np.float64(50.903417235521104)], [np.float64(198.05971499970934), np.float64(30.485071250072664)]], '7 Scm', np.float64(0.28683116623266763)), ([[np.float64(243.54697301067944), np.float64(169.05198394592162)], [np.float64(259.1624763874382), np.float64(173.37253305758654)], [np.float64(247.45302698932056), np.float64(215.94801605407838)], [np.float64(231.8375236125618), np.float64(211.62746694241346)]], '1', np.float64(0.6500794880416585))]\n",
      "Detected text: [([[np.int32(91), np.int32(11)], [np.int32(127), np.int32(11)], [np.int32(127), np.int32(25)], [np.int32(91), np.int32(25)]], '7,Scm', np.float64(0.6908444931245183)), ([[np.int32(29), np.int32(227)], [np.int32(43), np.int32(227)], [np.int32(43), np.int32(251)], [np.int32(29), np.int32(251)]], '8', np.float64(0.8379197825030396)), ([[np.float64(227.3859944401545), np.float64(92.0965827644789)], [np.float64(242.43386091563733), np.float64(85.0476258796321)], [np.float64(260.6140055598455), np.float64(126.9034172355211)], [np.float64(246.56613908436267), np.float64(133.9523741203679)]], '1', np.float64(0.4710777787536813))]\n",
      "Detected text: [([[np.float64(165.60127388858555), np.float64(39.08292994374676)], [np.float64(206.99757510083623), np.float64(49.93040173715096)], [np.float64(203.39872611141445), np.float64(63.91707005625324)], [np.float64(162.00242489916377), np.float64(53.06959826284904)]], 'W38*0l', np.float64(0.17172639204796625)), ([[np.float64(3.837523612561807), np.float64(89.37253305758654)], [np.float64(31.691410717654712), np.float64(63.12331376636578)], [np.float64(44.16247638743819), np.float64(78.62746694241346)], [np.float64(16.308589282345288), np.float64(104.87668623363422)]], '7.Scm', np.float64(0.5598296465379331))]\n",
      "Detected text: [([[np.int32(5), np.int32(173)], [np.int32(17), np.int32(173)], [np.int32(17), np.int32(207)], [np.int32(5), np.int32(207)]], '1', np.float64(0.11763679141581296)), ([[np.int32(219), np.int32(255)], [np.int32(247), np.int32(255)], [np.int32(247), np.int32(271)], [np.int32(219), np.int32(271)]], '601[', np.float64(0.085195392370224)), ([[np.float64(233.1401328392153), np.float64(7.194278962352139)], [np.float64(246.52181805028556), np.float64(-0.9307267860565327)], [np.float64(266.8598671607847), np.float64(31.80572103764786)], [np.float64(253.47818194971444), np.float64(39.93072678605653)]], '1', np.float64(0.12871891595204943)), ([[np.float64(77.36153615896193), np.float64(54.853075311273344)], [np.float64(117.27603572950065), np.float64(33.459956878188876)], [np.float64(125.63846384103807), np.float64(50.146924688726656)], [np.float64(85.72396427049935), np.float64(71.54004312181112)]], '48 0l', np.float64(0.5693288721750888))]\n",
      "Detected text: [([[np.float64(43.77348650533972), np.float64(90.02599197296081)], [np.float64(57.59632400133759), np.float64(94.19725615204555)], [np.float64(44.22651349466028), np.float64(134.9740080270392)], [np.float64(30.403675998662408), np.float64(130.80274384795445)]], '1', np.float64(0.7667053872308003)), ([[np.float64(55.89059960754954), np.float64(265.3358994113243)], [np.float64(68.52181805028555), np.float64(254.06927321394346)], [np.float64(95.10940039245045), np.float64(283.6641005886757)], [np.float64(82.47818194971445), np.float64(294.93072678605654)]], '!', np.float64(0.923377853961771))]\n",
      "Detected text: [([[np.int32(247), np.int32(51)], [np.int32(261), np.int32(51)], [np.int32(261), np.int32(79)], [np.int32(247), np.int32(79)]], '8', np.float64(0.8093380159207051)), ([[np.int32(163), np.int32(281)], [np.int32(199), np.int32(281)], [np.int32(199), np.int32(295)], [np.int32(163), np.int32(295)]], 'WJS L', np.float64(0.6179783333249302)), ([[np.float64(-6.5617376188860606), np.float64(48.75060990489115)], [np.float64(23.02107750831087), np.float64(28.28029051231853)], [np.float64(31.56173761888606), np.float64(43.24939009510885)], [np.float64(1.978922491689128), np.float64(63.71970948768147)]], '0020 +', np.float64(0.08160964025287622)), ([[np.float64(27.367544467966326), np.float64(178.10263340389898)], [np.float64(41.44324220717794), np.float64(171.04973428841708)], [np.float64(62.632455532033674), np.float64(211.89736659610102)], [np.float64(48.55675779282206), np.float64(218.95026571158292)]], '1', np.float64(0.7560563383097509))]\n",
      "Detected text: [([[np.int32(148), np.int32(2)], [np.int32(172), np.int32(2)], [np.int32(172), np.int32(28)], [np.int32(148), np.int32(28)]], '\"2', np.float64(0.07094837421087044)), ([[np.float64(246.94000211999364), np.float64(228.30400339198982)], [np.float64(275.77611400011625), np.float64(201.15672924972387)], [np.float64(287.05999788000634), np.float64(215.69599660801018)], [np.float64(258.22388599988375), np.float64(242.84327075027613)]], 'WJS L', np.float64(0.6633719969619432)), ([[np.float64(85.60127388858555), np.float64(241.08292994374676)], [np.float64(126.99757510083622), np.float64(251.93040173715096)], [np.float64(123.39872611141445), np.float64(265.91707005625324)], [np.float64(82.00242489916378), np.float64(255.06959826284904)]], '10.Bcm', np.float64(0.43491208607593534))]\n"
     ]
    }
   ],
   "source": [
    "import cv2\n",
    "import numpy as np\n",
    "import easyocr\n",
    "\n",
    "def rotate_image(image, angle):\n",
    "    (h, w) = image.shape[:2]\n",
    "    center = (w // 2, h // 2)\n",
    "    \n",
    "    # Perform the rotation\n",
    "    M = cv2.getRotationMatrix2D(center, angle, 1.0)\n",
    "    rotated = cv2.warpAffine(image, M, (w, h), flags=cv2.INTER_CUBIC, borderMode=cv2.BORDER_REPLICATE)\n",
    "    return rotated\n",
    "\n",
    "def get_skew_angle(image):\n",
    "    # Convert to grayscale and invert colors\n",
    "    gray = cv2.cvtColor(image, cv2.COLOR_BGR2GRAY)\n",
    "    gray = cv2.bitwise_not(gray)\n",
    "    \n",
    "    # Threshold the image to binary\n",
    "    thresh = cv2.threshold(gray, 0, 255, cv2.THRESH_BINARY | cv2.THRESH_OTSU)[1]\n",
    "\n",
    "    # Detect contours and get the minimum area rectangle\n",
    "    coords = np.column_stack(np.where(thresh > 0))\n",
    "    angle = cv2.minAreaRect(coords)[-1]\n",
    "    \n",
    "    # The `cv2.minAreaRect` returns values in the range [-90, 0);\n",
    "    # in order to get the correct angle for the deskewing process, \n",
    "    # we'll need to add 90 degrees to the angle if the angle is less than -45 degrees.\n",
    "    if angle < -45:\n",
    "        angle = -(90 + angle)\n",
    "    else:\n",
    "        angle = -angle\n",
    "    \n",
    "    return angle\n",
    "\n",
    "# Load the image\n",
    "image_path = r'C:\\Users\\saura\\OneDrive\\Desktop\\21eHFP5yRTL.jpg'  # Replace with your image path\n",
    "image = cv2.imread(image_path)\n",
    "\n",
    "# Get the skew angle of the image\n",
    "results = []\n",
    "for angle in [0, 45, 90, 135, 180, 225, 270, 315]:\n",
    "\n",
    "    # Rotate the image to deskew it\n",
    "    deskewed_image = rotate_image(image, angle)\n",
    "\n",
    "    # Save or display the deskewed image (optional)\n",
    "    cv2.imwrite('deskewed_image.jpg', deskewed_image)\n",
    "\n",
    "    # Initialize easyocr and read text from the deskewed image\n",
    "    reader = easyocr.Reader(['en'])\n",
    "    results.append(reader.readtext(deskewed_image))\n",
    "\n",
    "# Display the extracted text\n"
   ]
  },
  {
   "cell_type": "code",
   "execution_count": 20,
   "metadata": {},
   "outputs": [
    {
     "name": "stdout",
     "output_type": "stream",
     "text": [
      "Detected text: 10.8cm\n",
      "Detected text: 1\n",
      "Detected text: 8\n",
      "Detected text: 7.Scm\n",
      "Detected text: 601[\n",
      "Detected text: !\n",
      "Detected text: WJS L\n",
      "Detected text: WJS L\n"
     ]
    }
   ],
   "source": [
    "for result in results:\n",
    "    print(f\"Detected text: {result[1][1]}\")\n"
   ]
  },
  {
   "cell_type": "code",
   "execution_count": 10,
   "metadata": {},
   "outputs": [
    {
     "name": "stdout",
     "output_type": "stream",
     "text": [
      "Extracted Text:\n",
      " \n"
     ]
    }
   ],
   "source": [
    "# Import required libraries\n",
    "import pytesseract\n",
    "from PIL import Image\n",
    "\n",
    "# If you're on Windows, set the tesseract_cmd path to the Tesseract installation location\n",
    "# This step is not needed for Linux/macOS\n",
    "pytesseract.pytesseract.tesseract_cmd = r'C:\\Program Files (x86)\\Tesseract-OCR\\tesseract.exe'\n",
    "\n",
    "# Load the image from which you want to extract text\n",
    "image_path = 'image/21eHFP5yRTL.jpg'\n",
    "img = Image.open(image_path)\n",
    "\n",
    "# Perform OCR on the image\n",
    "text = pytesseract.image_to_string(img)\n",
    "\n",
    "# Output the extracted text\n",
    "print(\"Extracted Text:\\n\", text)\n"
   ]
  },
  {
   "cell_type": "code",
   "execution_count": null,
   "metadata": {},
   "outputs": [],
   "source": []
  }
 ],
 "metadata": {
  "kernelspec": {
   "display_name": "Python 3",
   "language": "python",
   "name": "python3"
  },
  "language_info": {
   "codemirror_mode": {
    "name": "ipython",
    "version": 3
   },
   "file_extension": ".py",
   "mimetype": "text/x-python",
   "name": "python",
   "nbconvert_exporter": "python",
   "pygments_lexer": "ipython3",
   "version": "3.12.5"
  }
 },
 "nbformat": 4,
 "nbformat_minor": 2
}
